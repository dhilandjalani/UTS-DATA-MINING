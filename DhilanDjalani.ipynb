{
 "cells": [
  {
   "cell_type": "code",
   "execution_count": 3,
   "id": "2d362411-3194-4d1e-8d67-3e47cd88f97c",
   "metadata": {},
   "outputs": [],
   "source": [
    "import pandas as pd"
   ]
  },
  {
   "cell_type": "code",
   "execution_count": 4,
   "id": "61f55245-4cec-4d3d-a014-cc07831598b0",
   "metadata": {},
   "outputs": [],
   "source": [
    "import numpy as np"
   ]
  },
  {
   "cell_type": "code",
   "execution_count": 5,
   "id": "2042eada-442a-4dca-8883-f38b7bb65fb2",
   "metadata": {},
   "outputs": [],
   "source": [
    "with open(\"data_kotor.csv\", \"w\") as f:\n",
    "    f.write(\"\"\"nama , umur , tanggal_lahir , gaji \n",
    " Andi , 23 , 2000/01/01 , 5000000\n",
    "Budi ,   , 1998-12-12 ,  10000000 \n",
    "Citra , 27 , 01-05-1996 ,   15000000\n",
    "Dedi , dua puluh lima , 1999/11/30 , Rp 17000000 \n",
    "Eka,30,,20000000\n",
    "\"\"\")\n"
   ]
  },
  {
   "cell_type": "code",
   "execution_count": 6,
   "id": "aac9f879-314c-44c9-a908-faaad659423f",
   "metadata": {},
   "outputs": [],
   "source": [
    "data = pd.read_csv('data_kotor.csv')"
   ]
  },
  {
   "cell_type": "code",
   "execution_count": 7,
   "id": "eb761106-1e98-4350-b023-3f2c8182a378",
   "metadata": {},
   "outputs": [],
   "source": [
    "data.columns = data.columns.str.strip()"
   ]
  },
  {
   "cell_type": "code",
   "execution_count": 8,
   "id": "e688b3cb-fc03-4d79-b20a-205d3b9eeadf",
   "metadata": {},
   "outputs": [],
   "source": [
    "data = data.map(lambda x: x.strip() if isinstance(x, str) else x)"
   ]
  },
  {
   "cell_type": "code",
   "execution_count": 9,
   "id": "bd910c1a-db7a-438a-b2b1-09b524e0534e",
   "metadata": {},
   "outputs": [],
   "source": [
    "def convert_age(val):\n",
    "    try:\n",
    "        return int(val)\n",
    "    except:\n",
    "        return np.nan\n",
    "\n",
    "data['umur'] = data['umur'].apply(convert_age)"
   ]
  },
  {
   "cell_type": "code",
   "execution_count": 10,
   "id": "a2da9b8f-d613-47e0-ade1-f5fab2bccebc",
   "metadata": {},
   "outputs": [],
   "source": [
    "data['gaji'] = data['gaji'].replace(r'Rp\\s*', '', regex=True).astype(int)"
   ]
  },
  {
   "cell_type": "code",
   "execution_count": 11,
   "id": "ca3beff2-7aa2-48d1-88bb-33fd8117ecad",
   "metadata": {},
   "outputs": [],
   "source": [
    "data['tanggal_lahir'] = pd.to_datetime(data['tanggal_lahir'], errors='coerce')"
   ]
  },
  {
   "cell_type": "code",
   "execution_count": 12,
   "id": "8760f407-c7bb-4115-b4cc-652d7491055d",
   "metadata": {},
   "outputs": [],
   "source": [
    "data['umur'] = data['umur'].fillna(data['umur'].mean().round())\n",
    "data['tanggal_lahir'] = data['tanggal_lahir'].fillna(pd.to_datetime('2000-01-01'))"
   ]
  },
  {
   "cell_type": "code",
   "execution_count": 13,
   "id": "8eb49bb3-b602-45f5-9680-f038ae0e8ee5",
   "metadata": {},
   "outputs": [
    {
     "name": "stdout",
     "output_type": "stream",
     "text": [
      "Data setelah dibersihkan:\n",
      "    nama  umur tanggal_lahir      gaji\n",
      "0   Andi  23.0    2000-01-01   5000000\n",
      "1   Budi  27.0    2000-01-01  10000000\n",
      "2  Citra  27.0    2000-01-01  15000000\n",
      "3   Dedi  27.0    1999-11-30  17000000\n",
      "4    Eka  30.0    2000-01-01  20000000\n"
     ]
    }
   ],
   "source": [
    "print(\"Data setelah dibersihkan:\")\n",
    "print(data)"
   ]
  },
  {
   "cell_type": "code",
   "execution_count": null,
   "id": "b513c419-134c-4f5c-9220-475e59c11b81",
   "metadata": {},
   "outputs": [],
   "source": []
  }
 ],
 "metadata": {
  "kernelspec": {
   "display_name": "Python 3 (ipykernel)",
   "language": "python",
   "name": "python3"
  },
  "language_info": {
   "codemirror_mode": {
    "name": "ipython",
    "version": 3
   },
   "file_extension": ".py",
   "mimetype": "text/x-python",
   "name": "python",
   "nbconvert_exporter": "python",
   "pygments_lexer": "ipython3",
   "version": "3.13.3"
  }
 },
 "nbformat": 4,
 "nbformat_minor": 5
}
